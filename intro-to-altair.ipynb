{
 "cells": [
  {
   "cell_type": "markdown",
   "metadata": {},
   "source": [
    "# Introduction to Altair (and working with Jupyter Notebooks)\n",
    "\n",
    "This is an interactive tutorial to get you used to working with notebooks and to teach you a bit about visualizing data with Altair. \n",
    "\n",
    "Initially, you will be provided with code, and you just need to run the cell (Shift-Enter or see the Run menu for more options). Later, you will need to provide some code of your own."
   ]
  },
  {
   "cell_type": "markdown",
   "metadata": {},
   "source": [
    "---\n",
    "We will start with some standard declarations to import the libraries we need. In addition to the `altair` library, we will be using `numpy` (numerical python) and `pandas` (python data analysis library) to help manage the data before we hand it off to Altair. Nothing will happen when you run the cell, but make sure you run it anyway (otherwise nothing else in the notebook will run).\n",
    "\n",
    "*Incidentally, I am using the `import XYZ as X` abbreviations because they are fairly standard, even if I do think they are the product of lazy typists...*"
   ]
  },
  {
   "cell_type": "code",
   "execution_count": null,
   "metadata": {},
   "outputs": [],
   "source": [
    "import altair as alt\n",
    "import numpy as np\n",
    "import pandas as pd"
   ]
  },
  {
   "cell_type": "markdown",
   "metadata": {},
   "source": [
    "Next, we'll create some random data using numpy."
   ]
  },
  {
   "cell_type": "code",
   "execution_count": null,
   "metadata": {},
   "outputs": [],
   "source": [
    "x = np.random.randint(0,25,10)\n",
    "y = np.random.randint(0,25,10)\n",
    "\n",
    "print('x:',x)\n",
    "print('y:',y)"
   ]
  },
  {
   "cell_type": "markdown",
   "metadata": {},
   "source": [
    "Altair is designed to work best with Pandas DataFrames in \"tidy\" format, which is the long form that we talked about (every variable is a column, every observation is a row). [Pandas](http://pandas.pydata.org/pandas-docs/stable/) provides a lot of tools for manipulating data. You will pick some of it up as we go along, but I encourage you to consult the documentation when you find yourself needing to make changes to your data.   \n",
    "\n",
    "*Note that putting the variable on its own means that it gets returned like it would be in the normal Python shell.*"
   ]
  },
  {
   "cell_type": "code",
   "execution_count": null,
   "metadata": {},
   "outputs": [],
   "source": [
    "df = pd.DataFrame({'x':x, 'y':y})\n",
    "df"
   ]
  },
  {
   "cell_type": "markdown",
   "metadata": {},
   "source": [
    "In this instance, we could print the whole DataFrame out, but usually you will want to just use df.head() so you don't get the entire data set. Change the number of random items from 10 to 100, and then use `df.head()` to see just the first five rows. *You can always make changes to cells and re-run them. Just be careful about the downstream cells. The state of the variables is based on execution order, not document order. So if, for example, you had reassigned x below, when you re-ran this cell, it would have the new value.*\n",
    "\n",
    "One thing to note is that the DataFrame has added an extra column, called the `index`, which is basically just the row number in this case. While not imemdiately important, it can be good to know it is there. "
   ]
  },
  {
   "cell_type": "markdown",
   "metadata": {},
   "source": [
    "## Making a visualization\n",
    "---\n",
    "\n",
    "Okay, time to make a visualization. The process is very much like the one we described previously (though backwards): create a chart, set its mark type, and then configure the encodings. We will start by creating our chart and setting the mark to point."
   ]
  },
  {
   "cell_type": "code",
   "execution_count": null,
   "metadata": {},
   "outputs": [],
   "source": [
    "alt.Chart(df).mark_point()"
   ]
  },
  {
   "cell_type": "markdown",
   "metadata": {},
   "source": [
    "This is not very interesting because we didn't set any encodings. "
   ]
  },
  {
   "cell_type": "code",
   "execution_count": null,
   "metadata": {},
   "outputs": [],
   "source": [
    "alt.Chart(df).mark_point().encode(x='x')"
   ]
  },
  {
   "cell_type": "markdown",
   "metadata": {},
   "source": [
    "This said to assign our variable x to the x position. Now, we'll add y."
   ]
  },
  {
   "cell_type": "code",
   "execution_count": null,
   "metadata": {},
   "outputs": [],
   "source": [
    "alt.Chart(df).mark_point().encode(x='x', y='y')"
   ]
  },
  {
   "cell_type": "markdown",
   "metadata": {},
   "source": [
    "And we have a scatterplot. There are other encodings such as `size`, `color`, and `shape`, as well as other marks like `bar`, `tick`, and `line`.\n",
    "\n",
    "In the cell below, I've added a third variable to our data. Create a new chart that maps `z` to the `size` encoding to create a bubble plot."
   ]
  },
  {
   "cell_type": "code",
   "execution_count": null,
   "metadata": {},
   "outputs": [],
   "source": [
    "z = np.random.randint(0,25,10)\n",
    "\n",
    "df = pd.DataFrame({'x':x, 'y':y, 'z':z})\n",
    "\n",
    "# replace with your chart"
   ]
  },
  {
   "cell_type": "markdown",
   "metadata": {},
   "source": [
    "Now try it again, mapping `z` to `color`."
   ]
  },
  {
   "cell_type": "code",
   "execution_count": null,
   "metadata": {},
   "outputs": [],
   "source": [
    "# replace with your chart"
   ]
  },
  {
   "cell_type": "markdown",
   "metadata": {},
   "source": [
    "## Nominal data and aggregation\n",
    "---\n",
    "\n",
    "Now, we will make another dataset with some nominal data in it. Let's say happened to keep running into creatures from Doctor Who, and every time we counted how many of them we encountered."
   ]
  },
  {
   "cell_type": "code",
   "execution_count": null,
   "metadata": {},
   "outputs": [],
   "source": [
    "types = ['Dalek', 'Cyberman', 'Ice Warrior']\n",
    "\n",
    "observed_types = [types[i] for i in np.random.randint(0,len(types), 10)]\n",
    "counts = np.random.randint(1,10,10)\n",
    "\n",
    "df = pd.DataFrame({'type':observed_types, 'number':counts})\n",
    "df"
   ]
  },
  {
   "cell_type": "markdown",
   "metadata": {},
   "source": [
    "Let's make a bar chart to look at the total number of each type of creature we encountered. "
   ]
  },
  {
   "cell_type": "code",
   "execution_count": null,
   "metadata": {},
   "outputs": [],
   "source": [
    "alt.Chart(df).mark_bar().encode(x='type:N', y='sum(number)')"
   ]
  },
  {
   "cell_type": "markdown",
   "metadata": {},
   "source": [
    "Notice that I added some information to the encodings. First, I added `:N` to `type`. Altair typically can guess what kind of information you have, but we can be explicit and tell Altair that we have nominal (N), quantitative (Q), ordinal (O), or temporal (T) data. \n",
    "\n",
    "The other thing I added in was an **aggregation operator**: `sum()`. This aggregated the y values, grouped by the x values (in this case, it added up the counts for each type of creature).\n",
    "\n",
    "The vertical bar chart doesn't look great. Flip the encodings to make this a horizontal bar chart. Also, let's see the average (use `average()`) of the counts instead of the sums. "
   ]
  },
  {
   "cell_type": "code",
   "execution_count": null,
   "metadata": {},
   "outputs": [],
   "source": [
    "# replace with your chart"
   ]
  },
  {
   "cell_type": "markdown",
   "metadata": {},
   "source": [
    "## Customizing\n",
    "---\n",
    "\n",
    "We can customize some of the visual attributes of our marks that we are not tying to an encoding.\n",
    "\n",
    "*Altair uses [web colors](https://en.wikipedia.org/wiki/Web_colors)*"
   ]
  },
  {
   "cell_type": "code",
   "execution_count": null,
   "metadata": {},
   "outputs": [],
   "source": [
    "alt.Chart(df).mark_bar(color=\"darkslateblue\").encode(x='type:N', y='sum(number)')"
   ]
  },
  {
   "cell_type": "markdown",
   "metadata": {},
   "source": [
    "We have also been using the short form of the encodings, where we just pass a string. There is a long form, where we create an encoding object, which allows us to be more explicit, and to exert more control."
   ]
  },
  {
   "cell_type": "code",
   "execution_count": null,
   "metadata": {},
   "outputs": [],
   "source": [
    "alt.Chart(df).mark_bar(color=\"darkslateblue\").encode(\n",
    "    x=alt.X('type', type=\"nominal\"), \n",
    "    y=alt.Y('number', type=\"quantitative\", aggregate=\"sum\")\n",
    ")"
   ]
  },
  {
   "cell_type": "markdown",
   "metadata": {},
   "source": [
    "We can then specify attributes of the axis as well."
   ]
  },
  {
   "cell_type": "code",
   "execution_count": null,
   "metadata": {},
   "outputs": [],
   "source": [
    "alt.Chart(df).mark_bar(color=\"darkslateblue\").encode(\n",
    "    x=alt.X('type', type=\"nominal\", axis=alt.Axis(title=\"Creature Type\")), \n",
    "    y=alt.Y('number', type=\"quantitative\", aggregate=\"sum\", axis=alt.Axis(title=\"Number of Creatures\"))\n",
    ")"
   ]
  },
  {
   "cell_type": "markdown",
   "metadata": {},
   "source": [
    "And we can also set some basic properties on the chart itself."
   ]
  },
  {
   "cell_type": "code",
   "execution_count": null,
   "metadata": {},
   "outputs": [],
   "source": [
    "alt.Chart(df).mark_bar(color=\"cadetblue\").encode(\n",
    "    x=alt.X('type', type=\"nominal\", axis=alt.Axis(title=\"Creature Type\")), \n",
    "    y=alt.Y('number', type=\"quantitative\", aggregate=\"sum\", axis=alt.Axis(title=\"Number of Creatures\"))\n",
    ").properties(\n",
    "    width=350,\n",
    "    height=150,\n",
    "    title=\"Creature Encounters\"\n",
    ")"
   ]
  },
  {
   "cell_type": "markdown",
   "metadata": {},
   "source": [
    "## Importing data\n",
    "---\n",
    "\n",
    "We can use pandas to load in data in other formats. We will use it to pull in the Doctor Who episode data that we have been using as an example in class.\n",
    "\n",
    "The `read_csv` command can also work locally. If this file was in the same directory as the notebook, we could just use `pd.read_csv('dr_who.csv')`. *How cool is it that we can just suck in data from the web?*"
   ]
  },
  {
   "cell_type": "code",
   "execution_count": null,
   "metadata": {},
   "outputs": [],
   "source": [
    "df = pd.read_csv(\"http://www.cs.middlebury.edu/~candrews/classes/cs465-f18/data/dr_who.csv\")\n",
    "df"
   ]
  },
  {
   "cell_type": "markdown",
   "metadata": {},
   "source": [
    "We will learn some more features of Altair shortly, but you are strongly encouraged to read through the [Altair Documentation](https://altair-viz.github.io/index.html) later, and look through the [Example Gallery](https://altair-viz.github.io/gallery/index.html) (particularly the Simple Charts, Bar Charts, Line Charts, and Scatter Plots).\n"
   ]
  },
  {
   "cell_type": "markdown",
   "metadata": {},
   "source": [
    "## Your turn\n",
    "---\n",
    "\n",
    "The `df` DataFrame is all loaded up with Doctor Who data. You are going to create a couple of charts for me. Don't just give me the simplest defaults. Customize them a bit with good axis labels and titles, and think about orientation, sizing, and color as well.\n",
    "\n",
    "Create a horizontal bar chart showing the total duration of each doctor (use the actor's name rather than the doctor number). *Challenge: order the bars by duration*"
   ]
  },
  {
   "cell_type": "code",
   "execution_count": null,
   "metadata": {},
   "outputs": [],
   "source": [
    "# your chart here"
   ]
  },
  {
   "cell_type": "markdown",
   "metadata": {},
   "source": [
    "I said above Altair couldn't always guess what type your data was. The doctor variable is an example of this. Create a bar chart of doctor to episode, forcing `doctor` to be **nominal**."
   ]
  },
  {
   "cell_type": "code",
   "execution_count": null,
   "metadata": {},
   "outputs": [],
   "source": [
    "# your chart here"
   ]
  },
  {
   "cell_type": "markdown",
   "metadata": {},
   "source": [
    "Repeat your chart, but force it to be **quantitative**."
   ]
  },
  {
   "cell_type": "code",
   "execution_count": null,
   "metadata": {},
   "outputs": [],
   "source": [
    "# your chart here"
   ]
  },
  {
   "cell_type": "markdown",
   "metadata": {},
   "source": [
    "Which one should it be and why?"
   ]
  },
  {
   "cell_type": "markdown",
   "metadata": {},
   "source": [
    "*double click and replace with your answer*"
   ]
  },
  {
   "cell_type": "markdown",
   "metadata": {},
   "source": [
    "Graph the number of companions by start year as a line chart."
   ]
  },
  {
   "cell_type": "code",
   "execution_count": null,
   "metadata": {},
   "outputs": [],
   "source": [
    "# your chart here"
   ]
  }
 ],
 "metadata": {
  "kernelspec": {
   "display_name": "Python 3",
   "language": "python",
   "name": "python3"
  },
  "language_info": {
   "codemirror_mode": {
    "name": "ipython",
    "version": 3
   },
   "file_extension": ".py",
   "mimetype": "text/x-python",
   "name": "python",
   "nbconvert_exporter": "python",
   "pygments_lexer": "ipython3",
   "version": "3.6.6"
  }
 },
 "nbformat": 4,
 "nbformat_minor": 2
}
