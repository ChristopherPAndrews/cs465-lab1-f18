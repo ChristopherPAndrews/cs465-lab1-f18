{
 "cells": [
  {
   "cell_type": "markdown",
   "metadata": {},
   "source": [
    "# Introduction to Altair (and working with Jupyter Notebooks)\n",
    "\n",
    "This is an interactive tutorial to get you used to working with notebooks and to teach you a bit about visualizing data with Altair. \n",
    "\n",
    "Initially, you will be provided with code, and you just need to run the cell (Shift-Enter or see the Run menu for more options). Later, you will need to provide some code of your own."
   ]
  },
  {
   "cell_type": "markdown",
   "metadata": {},
   "source": [
    "---\n",
    "We will start with some standard declarations to import the libraries we need. In addition to the `altair` library, we will be using `numpy` (numerical python) and `pandas` (python data analysis library) to help manage the data before we hand it off to Altair. Nothing will happen when you run the cell, but make sure you run it anyway (otherwise nothing else in the notebook will run).\n",
    "\n",
    "*Incidentally, I am using the `import XYZ as X` abbreviations because they are fairly standard, even if I do think they are the product of lazy typists...*"
   ]
  },
  {
   "cell_type": "code",
   "execution_count": 1,
   "metadata": {},
   "outputs": [],
   "source": [
    "import altair as alt\n",
    "import numpy as np\n",
    "import pandas as pd"
   ]
  },
  {
   "cell_type": "markdown",
   "metadata": {},
   "source": [
    "Next, we'll create some random data using numpy."
   ]
  },
  {
   "cell_type": "code",
   "execution_count": 42,
   "metadata": {},
   "outputs": [
    {
     "name": "stdout",
     "output_type": "stream",
     "text": [
      "x: [24  9 20  0  7 15 23  1  9 13]\n",
      "y: [ 0 10  8 20 11 18 24  2 10  8]\n"
     ]
    }
   ],
   "source": [
    "x = np.random.randint(0,25,10)\n",
    "y = np.random.randint(0,25,10)\n",
    "\n",
    "print('x:',x)\n",
    "print('y:',y)"
   ]
  },
  {
   "cell_type": "markdown",
   "metadata": {},
   "source": [
    "Altair is designed to work best with Pandas DataFrames in \"tidy\" format, which is the long form that we talked about (every variable is a column, every observation is a row). [Pandas](http://pandas.pydata.org/pandas-docs/stable/) provides a lot of tools for manipulating data. You will pick some of it up as we go along, but I encourage you to consult the documentation when you find yourself needing to make changes to your data.   \n",
    "\n",
    "*Note that putting the variable on its own means that it gets returned like it would be in the normal Python shell.*"
   ]
  },
  {
   "cell_type": "code",
   "execution_count": 43,
   "metadata": {},
   "outputs": [
    {
     "data": {
      "text/html": [
       "<div>\n",
       "<style scoped>\n",
       "    .dataframe tbody tr th:only-of-type {\n",
       "        vertical-align: middle;\n",
       "    }\n",
       "\n",
       "    .dataframe tbody tr th {\n",
       "        vertical-align: top;\n",
       "    }\n",
       "\n",
       "    .dataframe thead th {\n",
       "        text-align: right;\n",
       "    }\n",
       "</style>\n",
       "<table border=\"1\" class=\"dataframe\">\n",
       "  <thead>\n",
       "    <tr style=\"text-align: right;\">\n",
       "      <th></th>\n",
       "      <th>x</th>\n",
       "      <th>y</th>\n",
       "    </tr>\n",
       "  </thead>\n",
       "  <tbody>\n",
       "    <tr>\n",
       "      <th>0</th>\n",
       "      <td>24</td>\n",
       "      <td>0</td>\n",
       "    </tr>\n",
       "    <tr>\n",
       "      <th>1</th>\n",
       "      <td>9</td>\n",
       "      <td>10</td>\n",
       "    </tr>\n",
       "    <tr>\n",
       "      <th>2</th>\n",
       "      <td>20</td>\n",
       "      <td>8</td>\n",
       "    </tr>\n",
       "    <tr>\n",
       "      <th>3</th>\n",
       "      <td>0</td>\n",
       "      <td>20</td>\n",
       "    </tr>\n",
       "    <tr>\n",
       "      <th>4</th>\n",
       "      <td>7</td>\n",
       "      <td>11</td>\n",
       "    </tr>\n",
       "    <tr>\n",
       "      <th>5</th>\n",
       "      <td>15</td>\n",
       "      <td>18</td>\n",
       "    </tr>\n",
       "    <tr>\n",
       "      <th>6</th>\n",
       "      <td>23</td>\n",
       "      <td>24</td>\n",
       "    </tr>\n",
       "    <tr>\n",
       "      <th>7</th>\n",
       "      <td>1</td>\n",
       "      <td>2</td>\n",
       "    </tr>\n",
       "    <tr>\n",
       "      <th>8</th>\n",
       "      <td>9</td>\n",
       "      <td>10</td>\n",
       "    </tr>\n",
       "    <tr>\n",
       "      <th>9</th>\n",
       "      <td>13</td>\n",
       "      <td>8</td>\n",
       "    </tr>\n",
       "  </tbody>\n",
       "</table>\n",
       "</div>"
      ],
      "text/plain": [
       "    x   y\n",
       "0  24   0\n",
       "1   9  10\n",
       "2  20   8\n",
       "3   0  20\n",
       "4   7  11\n",
       "5  15  18\n",
       "6  23  24\n",
       "7   1   2\n",
       "8   9  10\n",
       "9  13   8"
      ]
     },
     "execution_count": 43,
     "metadata": {},
     "output_type": "execute_result"
    }
   ],
   "source": [
    "df = pd.DataFrame({'x':x, 'y':y})\n",
    "df"
   ]
  },
  {
   "cell_type": "markdown",
   "metadata": {},
   "source": [
    "In this instance, we could print the whole DataFrame out, but usually you will want to just use df.head() so you don't get the entire data set. Change the number of random items from 10 to 100, and then use `df.head()` to see just the first five rows. *You can always make changes to cells and re-run them. Just be careful about the downstream cells. The state of the variables is based on execution order, not document order. So if, for example, you had reassigned x below, when you re-ran this cell, it would have the new value.*\n",
    "\n",
    "One thing to note is that the DataFrame has added an extra column, called the `index`, which is basically just the row number in this case. While not imemdiately important, it can be good to know it is there. "
   ]
  },
  {
   "cell_type": "markdown",
   "metadata": {},
   "source": [
    "## Making a visualization\n",
    "---\n",
    "\n",
    "Okay, time to make a visualization. The process is very much like the one we described previously (though backwards): create a chart, set its mark type, and then configure the encodings. We will start by creating our chart and setting the mark to point."
   ]
  },
  {
   "cell_type": "code",
   "execution_count": 14,
   "metadata": {},
   "outputs": [
    {
     "data": {
      "application/vnd.vegalite.v2+json": {
       "$schema": "https://vega.github.io/schema/vega-lite/v2.6.0.json",
       "config": {
        "view": {
         "height": 300,
         "width": 400
        }
       },
       "data": {
        "name": "data-4b7fb2e0c15249fa73354f15a3fbe2d6"
       },
       "datasets": {
        "data-4b7fb2e0c15249fa73354f15a3fbe2d6": [
         {
          "x": 9,
          "y": 20
         },
         {
          "x": 3,
          "y": 2
         },
         {
          "x": 22,
          "y": 15
         },
         {
          "x": 16,
          "y": 10
         },
         {
          "x": 11,
          "y": 7
         },
         {
          "x": 18,
          "y": 12
         },
         {
          "x": 6,
          "y": 14
         },
         {
          "x": 20,
          "y": 9
         },
         {
          "x": 9,
          "y": 0
         },
         {
          "x": 18,
          "y": 8
         }
        ]
       },
       "mark": "point"
      },
      "image/png": "[encoded data removed]",
      "text/plain": [
       "<VegaLite 2 object>\n",
       "\n",
       "If you see this message, it means the renderer has not been properly enabled\n",
       "for the frontend that you are using. For more information, see\n",
       "https://altair-viz.github.io/user_guide/troubleshooting.html\n"
      ]
     },
     "execution_count": 14,
     "metadata": {},
     "output_type": "execute_result"
    }
   ],
   "source": [
    "alt.Chart(df).mark_point()"
   ]
  },
  {
   "cell_type": "markdown",
   "metadata": {},
   "source": [
    "This is not very interesting because we didn't set any encodings. "
   ]
  },
  {
   "cell_type": "code",
   "execution_count": 16,
   "metadata": {},
   "outputs": [
    {
     "data": {
      "application/vnd.vegalite.v2+json": {
       "$schema": "https://vega.github.io/schema/vega-lite/v2.6.0.json",
       "config": {
        "view": {
         "height": 300,
         "width": 400
        }
       },
       "data": {
        "name": "data-4b7fb2e0c15249fa73354f15a3fbe2d6"
       },
       "datasets": {
        "data-4b7fb2e0c15249fa73354f15a3fbe2d6": [
         {
          "x": 9,
          "y": 20
         },
         {
          "x": 3,
          "y": 2
         },
         {
          "x": 22,
          "y": 15
         },
         {
          "x": 16,
          "y": 10
         },
         {
          "x": 11,
          "y": 7
         },
         {
          "x": 18,
          "y": 12
         },
         {
          "x": 6,
          "y": 14
         },
         {
          "x": 20,
          "y": 9
         },
         {
          "x": 9,
          "y": 0
         },
         {
          "x": 18,
          "y": 8
         }
        ]
       },
       "encoding": {
        "x": {
         "field": "x",
         "type": "quantitative"
        }
       },
       "mark": "point"
      },
      "image/png": "[encoded data removed]",
      "text/plain": [
       "<VegaLite 2 object>\n",
       "\n",
       "If you see this message, it means the renderer has not been properly enabled\n",
       "for the frontend that you are using. For more information, see\n",
       "https://altair-viz.github.io/user_guide/troubleshooting.html\n"
      ]
     },
     "execution_count": 16,
     "metadata": {},
     "output_type": "execute_result"
    }
   ],
   "source": [
    "alt.Chart(df).mark_point().encode(x='x')"
   ]
  },
  {
   "cell_type": "markdown",
   "metadata": {},
   "source": [
    "This said to assign our variable x to the x position. Now, we'll add y."
   ]
  },
  {
   "cell_type": "code",
   "execution_count": 41,
   "metadata": {},
   "outputs": [
    {
     "data": {
      "application/vnd.vegalite.v2+json": {
       "$schema": "https://vega.github.io/schema/vega-lite/v2.6.0.json",
       "config": {
        "view": {
         "height": 300,
         "width": 400
        }
       },
       "data": {
        "name": "data-8cb7f75b46b1150b914ee1ecad6aebcb"
       },
       "datasets": {
        "data-8cb7f75b46b1150b914ee1ecad6aebcb": [
         {
          "x": 2,
          "y": 8
         },
         {
          "x": 2,
          "y": 21
         },
         {
          "x": 5,
          "y": 10
         },
         {
          "x": 5,
          "y": 24
         },
         {
          "x": 14,
          "y": 14
         },
         {
          "x": 5,
          "y": 8
         },
         {
          "x": 14,
          "y": 13
         },
         {
          "x": 17,
          "y": 17
         },
         {
          "x": 11,
          "y": 23
         },
         {
          "x": 15,
          "y": 15
         },
         {
          "x": 11,
          "y": 1
         },
         {
          "x": 12,
          "y": 22
         },
         {
          "x": 11,
          "y": 23
         },
         {
          "x": 15,
          "y": 7
         },
         {
          "x": 9,
          "y": 24
         },
         {
          "x": 16,
          "y": 5
         },
         {
          "x": 5,
          "y": 3
         },
         {
          "x": 2,
          "y": 7
         },
         {
          "x": 6,
          "y": 21
         },
         {
          "x": 10,
          "y": 3
         },
         {
          "x": 3,
          "y": 5
         },
         {
          "x": 18,
          "y": 7
         },
         {
          "x": 6,
          "y": 10
         },
         {
          "x": 13,
          "y": 8
         },
         {
          "x": 19,
          "y": 2
         },
         {
          "x": 12,
          "y": 3
         },
         {
          "x": 21,
          "y": 5
         },
         {
          "x": 18,
          "y": 1
         },
         {
          "x": 15,
          "y": 23
         },
         {
          "x": 22,
          "y": 18
         },
         {
          "x": 13,
          "y": 2
         },
         {
          "x": 22,
          "y": 18
         },
         {
          "x": 18,
          "y": 10
         },
         {
          "x": 7,
          "y": 6
         },
         {
          "x": 5,
          "y": 1
         },
         {
          "x": 8,
          "y": 24
         },
         {
          "x": 2,
          "y": 2
         },
         {
          "x": 2,
          "y": 2
         },
         {
          "x": 3,
          "y": 4
         },
         {
          "x": 12,
          "y": 21
         },
         {
          "x": 20,
          "y": 3
         },
         {
          "x": 22,
          "y": 24
         },
         {
          "x": 20,
          "y": 13
         },
         {
          "x": 12,
          "y": 6
         },
         {
          "x": 18,
          "y": 19
         },
         {
          "x": 15,
          "y": 23
         },
         {
          "x": 0,
          "y": 9
         },
         {
          "x": 11,
          "y": 22
         },
         {
          "x": 13,
          "y": 4
         },
         {
          "x": 8,
          "y": 6
         },
         {
          "x": 24,
          "y": 24
         },
         {
          "x": 8,
          "y": 17
         },
         {
          "x": 5,
          "y": 16
         },
         {
          "x": 12,
          "y": 15
         },
         {
          "x": 15,
          "y": 19
         },
         {
          "x": 13,
          "y": 8
         },
         {
          "x": 11,
          "y": 20
         },
         {
          "x": 11,
          "y": 22
         },
         {
          "x": 10,
          "y": 11
         },
         {
          "x": 12,
          "y": 7
         },
         {
          "x": 17,
          "y": 5
         },
         {
          "x": 9,
          "y": 6
         },
         {
          "x": 19,
          "y": 8
         },
         {
          "x": 4,
          "y": 4
         },
         {
          "x": 16,
          "y": 18
         },
         {
          "x": 21,
          "y": 17
         },
         {
          "x": 23,
          "y": 2
         },
         {
          "x": 7,
          "y": 24
         },
         {
          "x": 9,
          "y": 17
         },
         {
          "x": 19,
          "y": 8
         },
         {
          "x": 19,
          "y": 23
         },
         {
          "x": 14,
          "y": 0
         },
         {
          "x": 17,
          "y": 16
         },
         {
          "x": 0,
          "y": 20
         },
         {
          "x": 1,
          "y": 24
         },
         {
          "x": 17,
          "y": 21
         },
         {
          "x": 4,
          "y": 3
         },
         {
          "x": 13,
          "y": 8
         },
         {
          "x": 10,
          "y": 22
         },
         {
          "x": 12,
          "y": 8
         },
         {
          "x": 14,
          "y": 15
         },
         {
          "x": 12,
          "y": 14
         },
         {
          "x": 3,
          "y": 7
         },
         {
          "x": 6,
          "y": 4
         },
         {
          "x": 5,
          "y": 13
         },
         {
          "x": 14,
          "y": 17
         },
         {
          "x": 3,
          "y": 4
         },
         {
          "x": 16,
          "y": 22
         },
         {
          "x": 20,
          "y": 11
         },
         {
          "x": 0,
          "y": 3
         },
         {
          "x": 11,
          "y": 13
         },
         {
          "x": 2,
          "y": 21
         },
         {
          "x": 18,
          "y": 0
         },
         {
          "x": 15,
          "y": 1
         },
         {
          "x": 7,
          "y": 2
         },
         {
          "x": 17,
          "y": 24
         },
         {
          "x": 9,
          "y": 20
         },
         {
          "x": 16,
          "y": 19
         },
         {
          "x": 21,
          "y": 24
         },
         {
          "x": 1,
          "y": 15
         }
        ]
       },
       "encoding": {
        "x": {
         "field": "x",
         "type": "quantitative"
        },
        "y": {
         "field": "y",
         "type": "quantitative"
        }
       },
       "mark": "point"
      },
      "image/png": "[encoded data removed]",
      "text/plain": [
       "<VegaLite 2 object>\n",
       "\n",
       "If you see this message, it means the renderer has not been properly enabled\n",
       "for the frontend that you are using. For more information, see\n",
       "https://altair-viz.github.io/user_guide/troubleshooting.html\n"
      ]
     },
     "execution_count": 41,
     "metadata": {},
     "output_type": "execute_result"
    }
   ],
   "source": [
    "alt.Chart(df).mark_point().encode(x='x', y='y')"
   ]
  },
  {
   "cell_type": "markdown",
   "metadata": {},
   "source": [
    "And we have a scatterplot. There are other encodings such as `size`, `color`, and `shape`, as well as other marks like `bar`, `tick`, and `line`.\n",
    "\n",
    "In the cell below, I've added a third variable to our data. Create a new chart that maps `z` to the `size` encoding to create a bubble plot."
   ]
  },
  {
   "cell_type": "code",
   "execution_count": 21,
   "metadata": {},
   "outputs": [],
   "source": [
    "z = x = np.random.randint(0,25,10)\n",
    "\n",
    "df = pd.DataFrame({'x':x, 'y':y, 'z':z})\n",
    "\n",
    "# replace with your chart"
   ]
  },
  {
   "cell_type": "markdown",
   "metadata": {},
   "source": [
    "Now try it again, mapping `z` to `color`."
   ]
  },
  {
   "cell_type": "code",
   "execution_count": 22,
   "metadata": {},
   "outputs": [],
   "source": [
    "# replace with your chart"
   ]
  },
  {
   "cell_type": "markdown",
   "metadata": {},
   "source": [
    "## Nominal data and aggregation\n",
    "---\n",
    "\n",
    "Now, we will make another dataset with some nominal data in it. Let's say happened to keep running into creatures from Doctor Who, and every time we counted how many of them we encountered."
   ]
  },
  {
   "cell_type": "code",
   "execution_count": 47,
   "metadata": {},
   "outputs": [
    {
     "data": {
      "text/html": [
       "<div>\n",
       "<style scoped>\n",
       "    .dataframe tbody tr th:only-of-type {\n",
       "        vertical-align: middle;\n",
       "    }\n",
       "\n",
       "    .dataframe tbody tr th {\n",
       "        vertical-align: top;\n",
       "    }\n",
       "\n",
       "    .dataframe thead th {\n",
       "        text-align: right;\n",
       "    }\n",
       "</style>\n",
       "<table border=\"1\" class=\"dataframe\">\n",
       "  <thead>\n",
       "    <tr style=\"text-align: right;\">\n",
       "      <th></th>\n",
       "      <th>type</th>\n",
       "      <th>number</th>\n",
       "    </tr>\n",
       "  </thead>\n",
       "  <tbody>\n",
       "    <tr>\n",
       "      <th>0</th>\n",
       "      <td>Ice Warrior</td>\n",
       "      <td>4</td>\n",
       "    </tr>\n",
       "    <tr>\n",
       "      <th>1</th>\n",
       "      <td>Ice Warrior</td>\n",
       "      <td>8</td>\n",
       "    </tr>\n",
       "    <tr>\n",
       "      <th>2</th>\n",
       "      <td>Ice Warrior</td>\n",
       "      <td>5</td>\n",
       "    </tr>\n",
       "    <tr>\n",
       "      <th>3</th>\n",
       "      <td>Dalek</td>\n",
       "      <td>6</td>\n",
       "    </tr>\n",
       "    <tr>\n",
       "      <th>4</th>\n",
       "      <td>Ice Warrior</td>\n",
       "      <td>3</td>\n",
       "    </tr>\n",
       "    <tr>\n",
       "      <th>5</th>\n",
       "      <td>Ice Warrior</td>\n",
       "      <td>3</td>\n",
       "    </tr>\n",
       "    <tr>\n",
       "      <th>6</th>\n",
       "      <td>Dalek</td>\n",
       "      <td>3</td>\n",
       "    </tr>\n",
       "    <tr>\n",
       "      <th>7</th>\n",
       "      <td>Ice Warrior</td>\n",
       "      <td>2</td>\n",
       "    </tr>\n",
       "    <tr>\n",
       "      <th>8</th>\n",
       "      <td>Dalek</td>\n",
       "      <td>9</td>\n",
       "    </tr>\n",
       "    <tr>\n",
       "      <th>9</th>\n",
       "      <td>Cyberman</td>\n",
       "      <td>7</td>\n",
       "    </tr>\n",
       "  </tbody>\n",
       "</table>\n",
       "</div>"
      ],
      "text/plain": [
       "          type  number\n",
       "0  Ice Warrior       4\n",
       "1  Ice Warrior       8\n",
       "2  Ice Warrior       5\n",
       "3        Dalek       6\n",
       "4  Ice Warrior       3\n",
       "5  Ice Warrior       3\n",
       "6        Dalek       3\n",
       "7  Ice Warrior       2\n",
       "8        Dalek       9\n",
       "9     Cyberman       7"
      ]
     },
     "execution_count": 47,
     "metadata": {},
     "output_type": "execute_result"
    }
   ],
   "source": [
    "types = ['Dalek', 'Cyberman', 'Ice Warrior']\n",
    "\n",
    "observed_types = [types[i] for i in np.random.randint(0,len(types), 10)]\n",
    "counts = np.random.randint(1,10,10)\n",
    "\n",
    "df = pd.DataFrame({'type':observed_types, 'number':counts})\n",
    "df"
   ]
  },
  {
   "cell_type": "markdown",
   "metadata": {},
   "source": [
    "Let's make a bar chart to look at the total number of each type of creature we encountered. "
   ]
  },
  {
   "cell_type": "code",
   "execution_count": 48,
   "metadata": {},
   "outputs": [
    {
     "data": {
      "application/vnd.vegalite.v2+json": {
       "$schema": "https://vega.github.io/schema/vega-lite/v2.6.0.json",
       "config": {
        "view": {
         "height": 300,
         "width": 400
        }
       },
       "data": {
        "name": "data-75d352494bcc1daafad4bc44bb8053d0"
       },
       "datasets": {
        "data-75d352494bcc1daafad4bc44bb8053d0": [
         {
          "number": 4,
          "type": "Ice Warrior"
         },
         {
          "number": 8,
          "type": "Ice Warrior"
         },
         {
          "number": 5,
          "type": "Ice Warrior"
         },
         {
          "number": 6,
          "type": "Dalek"
         },
         {
          "number": 3,
          "type": "Ice Warrior"
         },
         {
          "number": 3,
          "type": "Ice Warrior"
         },
         {
          "number": 3,
          "type": "Dalek"
         },
         {
          "number": 2,
          "type": "Ice Warrior"
         },
         {
          "number": 9,
          "type": "Dalek"
         },
         {
          "number": 7,
          "type": "Cyberman"
         }
        ]
       },
       "encoding": {
        "x": {
         "field": "type",
         "type": "nominal"
        },
        "y": {
         "aggregate": "sum",
         "field": "number",
         "type": "quantitative"
        }
       },
       "mark": "bar"
      },
      "image/png": "[encoded data removed]",
      "text/plain": [
       "<VegaLite 2 object>\n",
       "\n",
       "If you see this message, it means the renderer has not been properly enabled\n",
       "for the frontend that you are using. For more information, see\n",
       "https://altair-viz.github.io/user_guide/troubleshooting.html\n"
      ]
     },
     "execution_count": 48,
     "metadata": {},
     "output_type": "execute_result"
    }
   ],
   "source": [
    "alt.Chart(df).mark_bar().encode(x='type:N', y='sum(number)')"
   ]
  },
  {
   "cell_type": "markdown",
   "metadata": {},
   "source": [
    "Notice that I added some information to the encodings. First, I added `:N` to `type`. Altair typically can guess what kind of information you have, but we can be explicit and tell Altair that we have nominal (N), quantitative (Q), ordinal (O), or temporal (T) data. \n",
    "\n",
    "The other thing I added in was an **aggregation operator**: `sum()`. This aggregated the y values, grouped by the x values (in this case, it added up the counts for each type of creature).\n",
    "\n",
    "The vertical bar chart doesn't look great. Flip the encodings to make this a horizontal bar chart. Also, let's see the average (use `average()`) of the counts instead of the sums. "
   ]
  },
  {
   "cell_type": "code",
   "execution_count": 36,
   "metadata": {},
   "outputs": [],
   "source": [
    "# replace with your chart"
   ]
  },
  {
   "cell_type": "markdown",
   "metadata": {},
   "source": [
    "## Customizing\n",
    "---\n",
    "\n",
    "We can customize some of the visual attributes of our marks that we are not tying to an encoding.\n",
    "\n",
    "*Altair uses [web colors](https://en.wikipedia.org/wiki/Web_colors)*"
   ]
  },
  {
   "cell_type": "code",
   "execution_count": 62,
   "metadata": {},
   "outputs": [
    {
     "data": {
      "application/vnd.vegalite.v2+json": {
       "$schema": "https://vega.github.io/schema/vega-lite/v2.6.0.json",
       "config": {
        "view": {
         "height": 300,
         "width": 400
        }
       },
       "data": {
        "name": "data-75d352494bcc1daafad4bc44bb8053d0"
       },
       "datasets": {
        "data-75d352494bcc1daafad4bc44bb8053d0": [
         {
          "number": 4,
          "type": "Ice Warrior"
         },
         {
          "number": 8,
          "type": "Ice Warrior"
         },
         {
          "number": 5,
          "type": "Ice Warrior"
         },
         {
          "number": 6,
          "type": "Dalek"
         },
         {
          "number": 3,
          "type": "Ice Warrior"
         },
         {
          "number": 3,
          "type": "Ice Warrior"
         },
         {
          "number": 3,
          "type": "Dalek"
         },
         {
          "number": 2,
          "type": "Ice Warrior"
         },
         {
          "number": 9,
          "type": "Dalek"
         },
         {
          "number": 7,
          "type": "Cyberman"
         }
        ]
       },
       "encoding": {
        "x": {
         "field": "type",
         "type": "nominal"
        },
        "y": {
         "aggregate": "sum",
         "field": "number",
         "type": "quantitative"
        }
       },
       "mark": {
        "color": "darkslateblue",
        "type": "bar"
       }
      },
      "image/png": "[encoded data removed]",
      "text/plain": [
       "<VegaLite 2 object>\n",
       "\n",
       "If you see this message, it means the renderer has not been properly enabled\n",
       "for the frontend that you are using. For more information, see\n",
       "https://altair-viz.github.io/user_guide/troubleshooting.html\n"
      ]
     },
     "execution_count": 62,
     "metadata": {},
     "output_type": "execute_result"
    }
   ],
   "source": [
    "alt.Chart(df).mark_bar(color=\"darkslateblue\").encode(x='type:N', y='sum(number)')"
   ]
  },
  {
   "cell_type": "markdown",
   "metadata": {},
   "source": [
    "We have also been using the short form of the encodings, where we just pass a string. There is a long form, where we create an encoding object, which allows us to be more explicit, and to exert more control."
   ]
  },
  {
   "cell_type": "code",
   "execution_count": 63,
   "metadata": {},
   "outputs": [
    {
     "data": {
      "application/vnd.vegalite.v2+json": {
       "$schema": "https://vega.github.io/schema/vega-lite/v2.6.0.json",
       "config": {
        "view": {
         "height": 300,
         "width": 400
        }
       },
       "data": {
        "name": "data-75d352494bcc1daafad4bc44bb8053d0"
       },
       "datasets": {
        "data-75d352494bcc1daafad4bc44bb8053d0": [
         {
          "number": 4,
          "type": "Ice Warrior"
         },
         {
          "number": 8,
          "type": "Ice Warrior"
         },
         {
          "number": 5,
          "type": "Ice Warrior"
         },
         {
          "number": 6,
          "type": "Dalek"
         },
         {
          "number": 3,
          "type": "Ice Warrior"
         },
         {
          "number": 3,
          "type": "Ice Warrior"
         },
         {
          "number": 3,
          "type": "Dalek"
         },
         {
          "number": 2,
          "type": "Ice Warrior"
         },
         {
          "number": 9,
          "type": "Dalek"
         },
         {
          "number": 7,
          "type": "Cyberman"
         }
        ]
       },
       "encoding": {
        "x": {
         "field": "type",
         "type": "nominal"
        },
        "y": {
         "aggregate": "sum",
         "field": "number",
         "type": "quantitative"
        }
       },
       "mark": {
        "color": "darkslateblue",
        "type": "bar"
       }
      },
      "image/png": "[encoded data removed]",
      "text/plain": [
       "<VegaLite 2 object>\n",
       "\n",
       "If you see this message, it means the renderer has not been properly enabled\n",
       "for the frontend that you are using. For more information, see\n",
       "https://altair-viz.github.io/user_guide/troubleshooting.html\n"
      ]
     },
     "execution_count": 63,
     "metadata": {},
     "output_type": "execute_result"
    }
   ],
   "source": [
    "alt.Chart(df).mark_bar(color=\"darkslateblue\").encode(\n",
    "    x=alt.X('type', type=\"nominal\"), \n",
    "    y=alt.Y('number', type=\"quantitative\", aggregate=\"sum\")\n",
    ")"
   ]
  },
  {
   "cell_type": "markdown",
   "metadata": {},
   "source": [
    "We can then specify attributes of the axis as well."
   ]
  },
  {
   "cell_type": "code",
   "execution_count": 64,
   "metadata": {},
   "outputs": [
    {
     "data": {
      "application/vnd.vegalite.v2+json": {
       "$schema": "https://vega.github.io/schema/vega-lite/v2.6.0.json",
       "config": {
        "view": {
         "height": 300,
         "width": 400
        }
       },
       "data": {
        "name": "data-75d352494bcc1daafad4bc44bb8053d0"
       },
       "datasets": {
        "data-75d352494bcc1daafad4bc44bb8053d0": [
         {
          "number": 4,
          "type": "Ice Warrior"
         },
         {
          "number": 8,
          "type": "Ice Warrior"
         },
         {
          "number": 5,
          "type": "Ice Warrior"
         },
         {
          "number": 6,
          "type": "Dalek"
         },
         {
          "number": 3,
          "type": "Ice Warrior"
         },
         {
          "number": 3,
          "type": "Ice Warrior"
         },
         {
          "number": 3,
          "type": "Dalek"
         },
         {
          "number": 2,
          "type": "Ice Warrior"
         },
         {
          "number": 9,
          "type": "Dalek"
         },
         {
          "number": 7,
          "type": "Cyberman"
         }
        ]
       },
       "encoding": {
        "x": {
         "axis": {
          "title": "Creature Type"
         },
         "field": "type",
         "type": "nominal"
        },
        "y": {
         "aggregate": "sum",
         "axis": {
          "title": "Number of Creatures"
         },
         "field": "number",
         "type": "quantitative"
        }
       },
       "mark": {
        "color": "darkslateblue",
        "type": "bar"
       }
      },
      "image/png": "[encoded data removed]",
      "text/plain": [
       "<VegaLite 2 object>\n",
       "\n",
       "If you see this message, it means the renderer has not been properly enabled\n",
       "for the frontend that you are using. For more information, see\n",
       "https://altair-viz.github.io/user_guide/troubleshooting.html\n"
      ]
     },
     "execution_count": 64,
     "metadata": {},
     "output_type": "execute_result"
    }
   ],
   "source": [
    "alt.Chart(df).mark_bar(color=\"darkslateblue\").encode(\n",
    "    x=alt.X('type', type=\"nominal\", axis=alt.Axis(title=\"Creature Type\")), \n",
    "    y=alt.Y('number', type=\"quantitative\", aggregate=\"sum\", axis=alt.Axis(title=\"Number of Creatures\"))\n",
    ")"
   ]
  },
  {
   "cell_type": "markdown",
   "metadata": {},
   "source": [
    "And we can also set some basic properties on the chart itself."
   ]
  },
  {
   "cell_type": "code",
   "execution_count": 60,
   "metadata": {},
   "outputs": [
    {
     "data": {
      "application/vnd.vegalite.v2+json": {
       "$schema": "https://vega.github.io/schema/vega-lite/v2.6.0.json",
       "config": {
        "view": {
         "height": 300,
         "width": 400
        }
       },
       "data": {
        "name": "data-75d352494bcc1daafad4bc44bb8053d0"
       },
       "datasets": {
        "data-75d352494bcc1daafad4bc44bb8053d0": [
         {
          "number": 4,
          "type": "Ice Warrior"
         },
         {
          "number": 8,
          "type": "Ice Warrior"
         },
         {
          "number": 5,
          "type": "Ice Warrior"
         },
         {
          "number": 6,
          "type": "Dalek"
         },
         {
          "number": 3,
          "type": "Ice Warrior"
         },
         {
          "number": 3,
          "type": "Ice Warrior"
         },
         {
          "number": 3,
          "type": "Dalek"
         },
         {
          "number": 2,
          "type": "Ice Warrior"
         },
         {
          "number": 9,
          "type": "Dalek"
         },
         {
          "number": 7,
          "type": "Cyberman"
         }
        ]
       },
       "encoding": {
        "x": {
         "axis": {
          "title": "Creature Type"
         },
         "field": "type",
         "type": "nominal"
        },
        "y": {
         "aggregate": "sum",
         "axis": {
          "title": "Number of Creatures"
         },
         "field": "number",
         "type": "quantitative"
        }
       },
       "height": 150,
       "mark": {
        "color": "cadetblue",
        "type": "bar"
       },
       "title": "Creature Encounters",
       "width": 350
      },
      "image/png": "[encoded data removed]",
      "text/plain": [
       "<VegaLite 2 object>\n",
       "\n",
       "If you see this message, it means the renderer has not been properly enabled\n",
       "for the frontend that you are using. For more information, see\n",
       "https://altair-viz.github.io/user_guide/troubleshooting.html\n"
      ]
     },
     "execution_count": 60,
     "metadata": {},
     "output_type": "execute_result"
    }
   ],
   "source": [
    "alt.Chart(df).mark_bar(color=\"cadetblue\").encode(\n",
    "    x=alt.X('type', type=\"nominal\", axis=alt.Axis(title=\"Creature Type\")), \n",
    "    y=alt.Y('number', type=\"quantitative\", aggregate=\"sum\", axis=alt.Axis(title=\"Number of Creatures\"))\n",
    ").properties(\n",
    "    width=350,\n",
    "    height=150,\n",
    "    title=\"Creature Encounters\"\n",
    ")"
   ]
  },
  {
   "cell_type": "markdown",
   "metadata": {},
   "source": [
    "## Importing data\n",
    "---\n",
    "\n",
    "We can use pandas to load in data in other formats. We will use it to pull in the Doctor Who episode data that we have been using as an example in class.\n",
    "\n",
    "The `read_csv` command can also work locally. If this file was in the same directory as the notebook, we could just use `pd.read_csv('dr_who.csv')`. *How cool is it that we can just suck in data from the web?*"
   ]
  },
  {
   "cell_type": "code",
   "execution_count": 72,
   "metadata": {},
   "outputs": [
    {
     "data": {
      "text/html": [
       "<div>\n",
       "<style scoped>\n",
       "    .dataframe tbody tr th:only-of-type {\n",
       "        vertical-align: middle;\n",
       "    }\n",
       "\n",
       "    .dataframe tbody tr th {\n",
       "        vertical-align: top;\n",
       "    }\n",
       "\n",
       "    .dataframe thead th {\n",
       "        text-align: right;\n",
       "    }\n",
       "</style>\n",
       "<table border=\"1\" class=\"dataframe\">\n",
       "  <thead>\n",
       "    <tr style=\"text-align: right;\">\n",
       "      <th></th>\n",
       "      <th>doctor</th>\n",
       "      <th>name</th>\n",
       "      <th>companions</th>\n",
       "      <th>start</th>\n",
       "      <th>end</th>\n",
       "      <th>episodes</th>\n",
       "      <th>duration</th>\n",
       "    </tr>\n",
       "  </thead>\n",
       "  <tbody>\n",
       "    <tr>\n",
       "      <th>0</th>\n",
       "      <td>1</td>\n",
       "      <td>William Hartnell</td>\n",
       "      <td>10</td>\n",
       "      <td>1963</td>\n",
       "      <td>1966</td>\n",
       "      <td>140</td>\n",
       "      <td>3600</td>\n",
       "    </tr>\n",
       "    <tr>\n",
       "      <th>1</th>\n",
       "      <td>2</td>\n",
       "      <td>Patrick Troughton</td>\n",
       "      <td>5</td>\n",
       "      <td>1966</td>\n",
       "      <td>1969</td>\n",
       "      <td>127</td>\n",
       "      <td>3300</td>\n",
       "    </tr>\n",
       "    <tr>\n",
       "      <th>2</th>\n",
       "      <td>3</td>\n",
       "      <td>Jon Pertwee</td>\n",
       "      <td>3</td>\n",
       "      <td>1970</td>\n",
       "      <td>1974</td>\n",
       "      <td>129</td>\n",
       "      <td>3290</td>\n",
       "    </tr>\n",
       "    <tr>\n",
       "      <th>3</th>\n",
       "      <td>4</td>\n",
       "      <td>Tom Baker</td>\n",
       "      <td>8</td>\n",
       "      <td>1974</td>\n",
       "      <td>1981</td>\n",
       "      <td>198</td>\n",
       "      <td>4950</td>\n",
       "    </tr>\n",
       "    <tr>\n",
       "      <th>4</th>\n",
       "      <td>5</td>\n",
       "      <td>Peter Davidson</td>\n",
       "      <td>6</td>\n",
       "      <td>1982</td>\n",
       "      <td>1984</td>\n",
       "      <td>69</td>\n",
       "      <td>1790</td>\n",
       "    </tr>\n",
       "    <tr>\n",
       "      <th>5</th>\n",
       "      <td>6</td>\n",
       "      <td>Colin Baker</td>\n",
       "      <td>2</td>\n",
       "      <td>1985</td>\n",
       "      <td>1986</td>\n",
       "      <td>31</td>\n",
       "      <td>1035</td>\n",
       "    </tr>\n",
       "    <tr>\n",
       "      <th>6</th>\n",
       "      <td>7</td>\n",
       "      <td>Sylvester McCoy</td>\n",
       "      <td>2</td>\n",
       "      <td>1987</td>\n",
       "      <td>1989</td>\n",
       "      <td>42</td>\n",
       "      <td>1050</td>\n",
       "    </tr>\n",
       "    <tr>\n",
       "      <th>7</th>\n",
       "      <td>8</td>\n",
       "      <td>Paul McGann</td>\n",
       "      <td>1</td>\n",
       "      <td>1996</td>\n",
       "      <td>1996</td>\n",
       "      <td>1</td>\n",
       "      <td>89</td>\n",
       "    </tr>\n",
       "    <tr>\n",
       "      <th>8</th>\n",
       "      <td>9</td>\n",
       "      <td>Christopher Eccleston</td>\n",
       "      <td>3</td>\n",
       "      <td>2005</td>\n",
       "      <td>2005</td>\n",
       "      <td>13</td>\n",
       "      <td>585</td>\n",
       "    </tr>\n",
       "    <tr>\n",
       "      <th>9</th>\n",
       "      <td>10</td>\n",
       "      <td>David Tennant</td>\n",
       "      <td>5</td>\n",
       "      <td>2006</td>\n",
       "      <td>2010</td>\n",
       "      <td>48</td>\n",
       "      <td>2312</td>\n",
       "    </tr>\n",
       "    <tr>\n",
       "      <th>10</th>\n",
       "      <td>11</td>\n",
       "      <td>Matt Smith</td>\n",
       "      <td>4</td>\n",
       "      <td>2010</td>\n",
       "      <td>2013</td>\n",
       "      <td>44</td>\n",
       "      <td>2077</td>\n",
       "    </tr>\n",
       "    <tr>\n",
       "      <th>11</th>\n",
       "      <td>12</td>\n",
       "      <td>Peter Capaldi</td>\n",
       "      <td>3</td>\n",
       "      <td>2014</td>\n",
       "      <td>2017</td>\n",
       "      <td>40</td>\n",
       "      <td>2009</td>\n",
       "    </tr>\n",
       "  </tbody>\n",
       "</table>\n",
       "</div>"
      ],
      "text/plain": [
       "    doctor                   name  companions  start   end  episodes  duration\n",
       "0        1       William Hartnell          10   1963  1966       140      3600\n",
       "1        2      Patrick Troughton           5   1966  1969       127      3300\n",
       "2        3            Jon Pertwee           3   1970  1974       129      3290\n",
       "3        4              Tom Baker           8   1974  1981       198      4950\n",
       "4        5         Peter Davidson           6   1982  1984        69      1790\n",
       "5        6            Colin Baker           2   1985  1986        31      1035\n",
       "6        7        Sylvester McCoy           2   1987  1989        42      1050\n",
       "7        8            Paul McGann           1   1996  1996         1        89\n",
       "8        9  Christopher Eccleston           3   2005  2005        13       585\n",
       "9       10          David Tennant           5   2006  2010        48      2312\n",
       "10      11             Matt Smith           4   2010  2013        44      2077\n",
       "11      12          Peter Capaldi           3   2014  2017        40      2009"
      ]
     },
     "execution_count": 72,
     "metadata": {},
     "output_type": "execute_result"
    }
   ],
   "source": [
    "df = pd.read_csv(\"http://www.cs.middlebury.edu/~candrews/classes/cs465-f18/data/dr_who.csv\")\n",
    "df"
   ]
  },
  {
   "cell_type": "markdown",
   "metadata": {},
   "source": [
    "We will learn some more features of Altair shortly, but you are strongly encouraged to read through the [Altair Documentation](https://altair-viz.github.io/index.html) later, and look through the [Example Gallery](https://altair-viz.github.io/gallery/index.html) (particularly the Simple Charts, Bar Charts, Line Charts, and Scatter Plots).\n"
   ]
  },
  {
   "cell_type": "markdown",
   "metadata": {},
   "source": [
    "## Your turn\n",
    "---\n",
    "\n",
    "The `df` DataFrame is all loaded up with Doctor Who data. You are going to create a couple of charts for me. Don't just give me the simplest defaults. Customize them a bit with good axis labels and titles, and think about orientation, sizing, and color as well.\n",
    "\n",
    "Create a horizontal bar chart showing the total duration of each doctor (use the actor's name rather than the doctor number). *Challenge: order the bars by duration*"
   ]
  },
  {
   "cell_type": "code",
   "execution_count": 65,
   "metadata": {},
   "outputs": [],
   "source": [
    "# your chart here"
   ]
  },
  {
   "cell_type": "markdown",
   "metadata": {},
   "source": [
    "I said above Altair couldn't always guess what type your data was. The doctor variable is an example of this. Create a bar chart of doctor to episode, forcing `doctor` to be **nominal**."
   ]
  },
  {
   "cell_type": "code",
   "execution_count": 66,
   "metadata": {},
   "outputs": [],
   "source": [
    "# your chart here"
   ]
  },
  {
   "cell_type": "markdown",
   "metadata": {},
   "source": [
    "Repeat your chart, but force it to be **quantitative**."
   ]
  },
  {
   "cell_type": "code",
   "execution_count": 67,
   "metadata": {},
   "outputs": [],
   "source": [
    "# your chart here"
   ]
  },
  {
   "cell_type": "markdown",
   "metadata": {},
   "source": [
    "Which one should it be and why?"
   ]
  },
  {
   "cell_type": "markdown",
   "metadata": {},
   "source": [
    "*double click and replace with your answer*"
   ]
  },
  {
   "cell_type": "markdown",
   "metadata": {},
   "source": [
    "Graph the number of companions by start year as a line chart."
   ]
  },
  {
   "cell_type": "code",
   "execution_count": 79,
   "metadata": {},
   "outputs": [],
   "source": [
    "# your chart here"
   ]
  }
 ],
 "metadata": {
  "kernelspec": {
   "display_name": "Python 3",
   "language": "python",
   "name": "python3"
  },
  "language_info": {
   "codemirror_mode": {
    "name": "ipython",
    "version": 3
   },
   "file_extension": ".py",
   "mimetype": "text/x-python",
   "name": "python",
   "nbconvert_exporter": "python",
   "pygments_lexer": "ipython3",
   "version": "3.6.6"
  }
 },
 "nbformat": 4,
 "nbformat_minor": 2
}
